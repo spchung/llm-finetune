{
 "cells": [
  {
   "cell_type": "code",
   "execution_count": 1,
   "id": "1ba46fc8",
   "metadata": {},
   "outputs": [
    {
     "name": "stderr",
     "output_type": "stream",
     "text": [
      "/Users/stephen/Library/Caches/pypoetry/virtualenvs/fine-tuning-oI3l7_A7-py3.13/lib/python3.13/site-packages/tqdm/auto.py:21: TqdmWarning: IProgress not found. Please update jupyter and ipywidgets. See https://ipywidgets.readthedocs.io/en/stable/user_install.html\n",
      "  from .autonotebook import tqdm as notebook_tqdm\n"
     ]
    }
   ],
   "source": [
    "from transformers import AutoProcessor, AutoModelForVision2Seq\n",
    "import torch\n",
    "DEVICE = \"cuda\" if torch.cuda.is_available() else \"cpu\"\n",
    "\n",
    "processor = AutoProcessor.from_pretrained(\"HuggingFaceTB/SmolVLM-Instruct\")\n",
    "model = AutoModelForVision2Seq.from_pretrained(\"HuggingFaceTB/SmolVLM-Instruct\",\n",
    "                                                torch_dtype=torch.bfloat16,\n",
    "                                                _attn_implementation=\"flash_attention_2\" if DEVICE == \"cuda\" else \"eager\").to(DEVICE)\n"
   ]
  },
  {
   "cell_type": "code",
   "execution_count": 2,
   "id": "4313e0bf",
   "metadata": {},
   "outputs": [],
   "source": [
    "from PIL import Image\n",
    "from transformers.image_utils import load_image\n",
    "\n",
    "\n",
    "# Load images\n",
    "image1 = load_image(\"https://huggingface.co/spaces/HuggingFaceTB/SmolVLM/resolve/main/example_images/rococo.jpg\")\n",
    "image2 = load_image(\"https://huggingface.co/spaces/HuggingFaceTB/SmolVLM/resolve/main/example_images/rococo_1.jpg\")\n",
    "\n",
    "# Create input messages\n",
    "messages = [\n",
    "    {\n",
    "        \"role\": \"user\",\n",
    "        \"content\": [\n",
    "            {\"type\": \"image\"},\n",
    "            # {\"type\": \"image\"},\n",
    "            # {\"type\": \"text\", \"text\": \"Can you describe the two images?\"}\n",
    "            {\"type\": \"text\", \"text\": \"Can you describe the image?\"}\n",
    "        ]\n",
    "    },\n",
    "]\n",
    "\n",
    "# Prepare inputs\n",
    "prompt = processor.apply_chat_template(messages, add_generation_prompt=True)\n",
    "# inputs = processor(text=prompt, images=[image1, image2], return_tensors=\"pt\")\n",
    "inputs = processor(text=prompt, images=[image1], return_tensors=\"pt\")\n",
    "inputs = inputs.to(DEVICE)\n"
   ]
  },
  {
   "cell_type": "code",
   "execution_count": 3,
   "id": "152b0e5a",
   "metadata": {},
   "outputs": [
    {
     "name": "stdout",
     "output_type": "stream",
     "text": [
      "User:<image>Can you describe the image?\n",
      "Assistant: The image appears to be a detailed and ornate design, featuring a central circular frame with intricate patterns and embellishments. The frame is surrounded by a symmetrical and highly decorative border, which includes various motifs and elements. The border is composed of a combination of gold and white colors, creating a striking contrast. The central frame contains a painting or illustration, which depicts a scene with multiple figures. The figures are depicted in a classical or mythological style, with elongated bodies, flowing robes, and detailed facial expressions. The background of the painting is filled with various elements, including flowers, trees, and possibly a sky or landscape. The painting is framed by a border of intricate patterns, which adds to the overall aesthetic appeal of the design.\n",
      "\n",
      "The central frame is circular and features a symmetrical pattern, with a central motif that is repeated in a symmetrical manner. The border of the frame is composed of a combination of gold and white colors, creating a striking contrast. The gold elements are often used to highlight the central motif, while the white elements provide a sense of balance and structure. The border also includes various motifs, such as leaves, flowers, and other natural elements, which add to the overall beauty and complexity of the design.\n",
      "\n",
      "The painting or illustration within the frame is highly detailed and features multiple figures. The figures are depicted in a classical or mythological style, with elongated bodies, flowing robes, and detailed facial expressions. The background of the painting is filled with various elements, including flowers, trees, and possibly a sky or landscape. The figures are arranged in a way that suggests a narrative or scene, with some figures appearing to interact with each other. The central frame is framed by a border of intricate patterns, which adds to the overall aesthetic appeal of the design.\n",
      "\n",
      "The image is likely a piece of art or a decorative element, possibly from a historical or cultural context. The combination of the central frame, the border, and the painting or illustration suggests a high level of craftsmanship and attention to detail. The use of gold and white colors, along with the classical or mythological elements, adds to the aesthetic appeal and historical significance of the design.\n",
      "\n",
      "In summary, the image is a highly detailed and ornate design featuring a central circular frame with intricate patterns and embellishments, surrounded by a symmetrical and highly decorative border. The central frame contains a painting or illustration with multiple figures, and the background is filled with various elements, including flowers, trees, and possibly a sky or landscape.\n"
     ]
    }
   ],
   "source": [
    "# Generate outputs\n",
    "generated_ids = model.generate(**inputs, max_new_tokens=500)\n",
    "generated_texts = processor.batch_decode(\n",
    "    generated_ids,\n",
    "    skip_special_tokens=True,\n",
    ")\n",
    "\n",
    "print(generated_texts[0])\n"
   ]
  }
 ],
 "metadata": {
  "kernelspec": {
   "display_name": "fine-tuning-oI3l7_A7-py3.13",
   "language": "python",
   "name": "python3"
  },
  "language_info": {
   "codemirror_mode": {
    "name": "ipython",
    "version": 3
   },
   "file_extension": ".py",
   "mimetype": "text/x-python",
   "name": "python",
   "nbconvert_exporter": "python",
   "pygments_lexer": "ipython3",
   "version": "3.13.1"
  }
 },
 "nbformat": 4,
 "nbformat_minor": 5
}
